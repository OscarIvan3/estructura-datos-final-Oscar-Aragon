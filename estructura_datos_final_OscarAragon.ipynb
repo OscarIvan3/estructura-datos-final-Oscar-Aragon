{
  "nbformat": 4,
  "nbformat_minor": 0,
  "metadata": {
    "colab": {
      "provenance": [],
      "toc_visible": true,
      "authorship_tag": "ABX9TyOrnlZ1OVP/2elaWLvJSVfS",
      "include_colab_link": true
    },
    "kernelspec": {
      "name": "python3",
      "display_name": "Python 3"
    },
    "language_info": {
      "name": "python"
    }
  },
  "cells": [
    {
      "cell_type": "markdown",
      "metadata": {
        "id": "view-in-github",
        "colab_type": "text"
      },
      "source": [
        "<a href=\"https://colab.research.google.com/github/OscarIvan3/estructura-datos-final-Oscar-Aragon/blob/main/estructura_datos_final_OscarAragon.ipynb\" target=\"_parent\"><img src=\"https://colab.research.google.com/assets/colab-badge.svg\" alt=\"Open In Colab\"/></a>"
      ]
    },
    {
      "cell_type": "markdown",
      "source": [
        "# Hash Map"
      ],
      "metadata": {
        "id": "2KV7MFoM3b5Z"
      }
    },
    {
      "cell_type": "markdown",
      "source": [
        "# Happy Number Solucion 1"
      ],
      "metadata": {
        "id": "4RoqbQqG2saL"
      }
    },
    {
      "cell_type": "markdown",
      "source": [],
      "metadata": {
        "id": "H0sfJpsI3lph"
      }
    },
    {
      "cell_type": "code",
      "source": [
        "\n",
        "\n",
        "# Clase para verificar si un número es feliz\n",
        "class HappyNumber:\n",
        "    @staticmethod\n",
        "    def is_happy(n: int) -> bool:\n",
        "        # Conjunto para guardar los números ya vistos y evitar bucles infinitos\n",
        "        seen_numbers = set()\n",
        "\n",
        "        # Repetimos el proceso mientras n no sea 1 y no se repita\n",
        "        while n != 1 and n not in seen_numbers:\n",
        "            # Guardamos el número actual para detectar ciclos\n",
        "            seen_numbers.add(n)\n",
        "            # Reemplazamos n por la suma de los cuadrados de sus dígitos\n",
        "            n = HappyNumber.sum_of_squares(n)\n",
        "\n",
        "        # Si el ciclo terminó porque n == 1, entonces es un número feliz\n",
        "        return n == 1\n",
        "\n",
        "    @staticmethod\n",
        "    def sum_of_squares(n: int) -> int:\n",
        "        # Esta función calcula la suma de los cuadrados de los dígitos de n\n",
        "        total = 0\n",
        "        while n > 0:\n",
        "            digit = n % 10        # Obtiene el último dígito\n",
        "            total += digit * digit  # Suma su cuadrado al total\n",
        "            n //= 10              # Elimina el último dígito\n",
        "        return total\n",
        "\n",
        "# Pruebas\n",
        "print(HappyNumber.is_happy(19))  # True, porque 19 es un número feliz\n",
        "print(HappyNumber.is_happy(2))   # False, porque 2 no es un número feliz\n"
      ],
      "metadata": {
        "id": "IA-eoexA3E9l",
        "colab": {
          "base_uri": "https://localhost:8080/"
        },
        "outputId": "6cee8eb3-597f-4d78-c493-7ff4553f0827"
      },
      "execution_count": null,
      "outputs": [
        {
          "output_type": "stream",
          "name": "stdout",
          "text": [
            "True\n",
            "False\n"
          ]
        }
      ]
    },
    {
      "cell_type": "markdown",
      "source": [
        "El algoritmo determina si un número entero positivo n es un número feliz, es decir, si al reemplazar n por la suma de los cuadrados de sus dígitos repetidamente se llega finalmente al número 1.\n",
        "| Aspecto | Complejidad |\n",
        "| ------- | ----------- |\n",
        "| Tiempo  | `O(log n)`  |\n",
        "| Espacio | `O(log n)`  |\n"
      ],
      "metadata": {
        "id": "X66CiAzuoJZ2"
      }
    },
    {
      "cell_type": "markdown",
      "source": [
        "# Happy Number Solucion 2\n"
      ],
      "metadata": {
        "id": "HfKMhSy33J06"
      }
    },
    {
      "cell_type": "code",
      "source": [
        "def isHappy(n: int) -> bool:\n",
        "    # Función auxiliar que calcula la suma de los cuadrados de los dígitos de un número\n",
        "    def get_next(number):\n",
        "        total_sum = 0\n",
        "        while number > 0:\n",
        "            digit = number % 10          # Obtiene el último dígito\n",
        "            total_sum += digit ** 2      # Suma el cuadrado del dígito\n",
        "            number //= 10                # Elimina el último dígito\n",
        "        return total_sum\n",
        "\n",
        "    seen = set()  # Conjunto para guardar los números ya vistos y detectar ciclos\n",
        "\n",
        "    # Repite el proceso hasta que el número sea 1 (es feliz) o entre en un ciclo\n",
        "    while n != 1 and n not in seen:\n",
        "        seen.add(n)         # Guarda el número actual para detectar ciclos\n",
        "        n = get_next(n)     # Reemplaza el número por la suma de los cuadrados de sus dígitos\n",
        "\n",
        "    return n == 1           # Devuelve True si es feliz, False si entra en un ciclo\n",
        "\n",
        "# Ejemplos de uso\n",
        "print(isHappy(19))  # Salida: True (es un número feliz)\n",
        "print(isHappy(2))   # Salida: False (entra en un ciclo)\n"
      ],
      "metadata": {
        "id": "Tvr68ZUy3NDY"
      },
      "execution_count": null,
      "outputs": []
    },
    {
      "cell_type": "markdown",
      "source": [
        "¿Qué hace este algoritmo?\n",
        "Repite una operación: reemplaza el número n por la suma de los cuadrados de sus dígitos.\n",
        "\n",
        "Se detiene si llega a 1 (caso feliz) o si detecta un ciclo"
      ],
      "metadata": {
        "id": "eTmH7g1moWU7"
      }
    },
    {
      "cell_type": "markdown",
      "source": [
        "# Isomorphic Strings Solucion 1\n"
      ],
      "metadata": {
        "id": "AWk2tsNv4Kdh"
      }
    },
    {
      "cell_type": "code",
      "source": [
        "def isIsomorphic(s: str, t: str) -> bool:\n",
        "    if len(s) != len(t):\n",
        "        return False\n",
        "\n",
        "    map_st = {}  # Mapeo de caracteres de s -> t\n",
        "    map_ts = {}  # Mapeo de caracteres de t -> s\n",
        "\n",
        "    for char_s, char_t in zip(s, t):\n",
        "        # Verificar mapeo de s -> t\n",
        "        if char_s in map_st:\n",
        "            if map_st[char_s] != char_t:\n",
        "                return False\n",
        "        else:\n",
        "            map_st[char_s] = char_t\n",
        "\n",
        "        # Verificar mapeo de t -> s\n",
        "        if char_t in map_ts:\n",
        "            if map_ts[char_t] != char_s:\n",
        "                return False\n",
        "        else:\n",
        "            map_ts[char_t] = char_s\n",
        "\n",
        "    return True\n",
        "\n",
        "# Pruebas\n",
        "print(isIsomorphic(\"egg\", \"add\"))     # True\n",
        "print(isIsomorphic(\"foo\", \"bar\"))     # False\n",
        "print(isIsomorphic(\"paper\", \"title\")) # True\n"
      ],
      "metadata": {
        "id": "FOoXS6_e4Xxb"
      },
      "execution_count": null,
      "outputs": []
    },
    {
      "cell_type": "markdown",
      "source": [
        "¿Qué hace este algoritmo?\n",
        "Recorre ambas cadenas carácter por carácter.\n",
        "\n",
        "Usa dos diccionarios para asegurarse de que:\n",
        "\n",
        "Cada carácter de s mapea consistentemente a un carácter de t.\n",
        "\n",
        "Cada carácter de t mapea consistentemente a un carácter de s.\n",
        "\n",
        "Si encuentra una contradicción en los mapeos, retorna False.\n",
        "| Tipo    | Complejidad |\n",
        "| ------- | ----------- |\n",
        "| Tiempo  | **O(n)**    |\n",
        "| Espacio | **O(n)**    |\n",
        "\n"
      ],
      "metadata": {
        "id": "5jryGkXu4Z-Z"
      }
    },
    {
      "cell_type": "markdown",
      "source": [
        "# Isomorphic Strings Solucion 2"
      ],
      "metadata": {
        "id": "QLThY4T_47E7"
      }
    },
    {
      "cell_type": "code",
      "source": [
        "def isIsomorphic(s: str, t: str) -> bool:\n",
        "    if len(s) != len(t):\n",
        "        return False  # Si tienen diferente longitud, no pueden ser isomorfas\n",
        "\n",
        "    mapping_s_t = {}          # Diccionario para mapear caracteres de s -> t\n",
        "    mapped_characters = set() # Conjunto para registrar caracteres ya usados en t\n",
        "\n",
        "    for char_s, char_t in zip(s, t):\n",
        "        if char_s in mapping_s_t:\n",
        "            # Si ya hay un mapeo, verificar que sea consistente\n",
        "            if mapping_s_t[char_s] != char_t:\n",
        "                return False\n",
        "        else:\n",
        "            # Si char_t ya fue usado por otro carácter, no es válido\n",
        "            if char_t in mapped_characters:\n",
        "                return False\n",
        "            # Registrar el nuevo mapeo\n",
        "            mapping_s_t[char_s] = char_t\n",
        "            mapped_characters.add(char_t)\n",
        "\n",
        "    return True  # Si pasa todo, son isomorfas\n",
        "\n",
        "# Ejemplos de prueba\n",
        "print(isIsomorphic(\"egg\", \"add\"))     # True\n",
        "print(isIsomorphic(\"foo\", \"bar\"))     # False\n",
        "print(isIsomorphic(\"paper\", \"title\")) # True\n"
      ],
      "metadata": {
        "id": "_7YLFTGV5Em4"
      },
      "execution_count": null,
      "outputs": []
    },
    {
      "cell_type": "markdown",
      "source": [
        "Complejidad (Big O)\n",
        "Tiempo — O(n)\n",
        "Se recorre una sola vez la longitud de las cadenas con zip(s, t).\n",
        "\n",
        "Las operaciones de diccionario y conjunto (in, add, get) son O(1) en promedio.\n",
        "\n",
        "✅ Total: O(n)\n",
        "\n",
        "Espacio — O(n)\n",
        "El diccionario mapping_s_t puede tener hasta n claves únicas.\n",
        "\n",
        "El conjunto mapped_characters puede tener hasta n elementos únicos.\n",
        "\n",
        "✅ Total: O(n)"
      ],
      "metadata": {
        "id": "i31wweC75Mcx"
      }
    },
    {
      "cell_type": "markdown",
      "source": [
        "# Valid Anagram Solucion 1\n"
      ],
      "metadata": {
        "id": "b0YvOLvd6KN3"
      }
    },
    {
      "cell_type": "code",
      "source": [
        "def isAnagram(s: str, t: str) -> bool:\n",
        "    # Paso 1: Verifica si las longitudes son diferentes\n",
        "    if len(s) != len(t):\n",
        "        return False\n",
        "\n",
        "    # Paso 2: Crea una lista para contar las frecuencias (una posición por cada letra del alfabeto)\n",
        "    count = [0] * 26  # Solo letras minúsculas del alfabeto inglés\n",
        "\n",
        "    # Paso 3: Actualiza las frecuencias\n",
        "    for i in range(len(s)):\n",
        "        count[ord(s[i]) - ord('a')] += 1\n",
        "        count[ord(t[i]) - ord('a')] -= 1\n",
        "\n",
        "    # Paso 4: Verifica si todas las frecuencias son cero\n",
        "    for freq in count:\n",
        "        if freq != 0:\n",
        "            return False\n",
        "\n",
        "    # Paso 5: Si todo está bien, son anagramas\n",
        "    return True\n",
        "\n",
        "# Pruebas\n",
        "print(isAnagram(\"anagram\", \"nagaram\"))  # True\n",
        "print(isAnagram(\"rat\", \"car\"))          # False\n"
      ],
      "metadata": {
        "id": "ulUfGFMQ6OFH",
        "colab": {
          "base_uri": "https://localhost:8080/"
        },
        "outputId": "03d6d3cb-4faf-4590-ce13-8e7746d528f7"
      },
      "execution_count": null,
      "outputs": [
        {
          "output_type": "stream",
          "name": "stdout",
          "text": [
            "False\n",
            "False\n"
          ]
        }
      ]
    },
    {
      "cell_type": "markdown",
      "source": [
        "Complejidad (Big O)\n",
        " Tiempo: O(n)\n",
        "Se recorre cada cadena una sola vez.\n",
        "\n",
        "Las operaciones en el arreglo de conteo son O(1) por carácter.\n",
        "\n",
        "Total: O(n) donde n es la longitud de las cadenas.\n",
        "\n",
        " Espacio: O(1)\n",
        "El arreglo count tiene siempre 26 elementos (constante).\n",
        "\n",
        "No depende del tamaño de entrada.\n",
        "\n",
        "Total: O(1)\n",
        "\n"
      ],
      "metadata": {
        "id": "wRdl8IFr6PRF"
      }
    },
    {
      "cell_type": "markdown",
      "source": [
        "# Valid Anagram Solucion 2"
      ],
      "metadata": {
        "id": "dc3VjHjH6lKy"
      }
    },
    {
      "cell_type": "code",
      "source": [
        "from collections import Counter\n",
        "\n",
        "def isAnagram(s: str, t: str) -> bool:\n",
        "    # Paso 1: Comparar las frecuencias de los caracteres usando Counter\n",
        "    return Counter(s) == Counter(t)\n",
        "\n",
        "# Pruebas\n",
        "print(isAnagram(\"anagram\", \"nagaram\"))  # True\n",
        "print(isAnagram(\"rat\", \"car\"))          # False\n"
      ],
      "metadata": {
        "id": "zRQ_0MPY6sfW",
        "colab": {
          "base_uri": "https://localhost:8080/"
        },
        "outputId": "c480d3a6-2a69-48cc-aa01-ed0ac8956186"
      },
      "execution_count": null,
      "outputs": [
        {
          "output_type": "stream",
          "name": "stdout",
          "text": [
            "False\n",
            "False\n"
          ]
        }
      ]
    },
    {
      "cell_type": "markdown",
      "source": [
        "¿Qué hace Counter?\n",
        "Convierte la cadena en un diccionario donde cada clave es un carácter y el valor es su frecuencia."
      ],
      "metadata": {
        "id": "cxySZDuL6xRv"
      }
    },
    {
      "cell_type": "code",
      "source": [
        "Counter(\"anagram\") ➜ {'a': 3, 'n': 1, 'g': 1, 'r': 1, 'm': 1}\n"
      ],
      "metadata": {
        "id": "FbqYB6ln6x-A"
      },
      "execution_count": null,
      "outputs": []
    },
    {
      "cell_type": "markdown",
      "source": [
        "Complejidad (Big O)\n",
        " Tiempo: O(n)\n",
        "Recorrer ambas cadenas una vez para contar los caracteres.\n",
        "\n",
        " Espacio: O(1) si solo se consideran letras minúsculas inglesas (26 letras).\n",
        "Si permitimos caracteres Unicode u otros alfabetos, puede crecer a O(n)."
      ],
      "metadata": {
        "id": "oZYcDCXq623f"
      }
    },
    {
      "cell_type": "markdown",
      "source": [
        "# Array String\n"
      ],
      "metadata": {
        "id": "iPf-pnw061TB"
      }
    },
    {
      "cell_type": "markdown",
      "source": [
        "# Candy Solucion 1\n",
        "Dado un arreglo ratings donde cada elemento representa la calificación de un niño, debes repartir caramelos de manera que:\n",
        "\n",
        "Cada niño tenga al menos un caramelo.\n",
        "\n",
        "Los niños con mayor calificación que sus vecinos inmediatos reciban más caramelos."
      ],
      "metadata": {
        "id": "-41qPZ_oJDdg"
      }
    },
    {
      "cell_type": "code",
      "source": [
        "def candy(ratings):\n",
        "    n = len(ratings)\n",
        "    candies = [1] * n  # Todos empiezan con 1 caramelo\n",
        "\n",
        "    # Paso 1: Izquierda a derecha\n",
        "    for i in range(1, n):\n",
        "        if ratings[i] > ratings[i - 1]:\n",
        "            candies[i] = candies[i - 1] + 1\n",
        "\n",
        "    # Paso 2: Derecha a izquierda\n",
        "    for i in range(n - 2, -1, -1):\n",
        "        if ratings[i] > ratings[i + 1]:\n",
        "            candies[i] = max(candies[i], candies[i + 1] + 1)\n",
        "\n",
        "    return sum(candies)\n"
      ],
      "metadata": {
        "id": "5wT1RmRCJHhX"
      },
      "execution_count": null,
      "outputs": []
    },
    {
      "cell_type": "markdown",
      "source": [
        "🧮 Complejidad:\n",
        "Tiempo: O(n) (dos recorridos lineales)\n",
        "\n",
        "Espacio: O(n) (arreglo de caramelos)"
      ],
      "metadata": {
        "id": "YFbb-4LoJVPe"
      }
    },
    {
      "cell_type": "markdown",
      "source": [
        "# Candy Solucion 2"
      ],
      "metadata": {
        "id": "FJeX1tZMJL9w"
      }
    },
    {
      "cell_type": "code",
      "source": [
        "import heapq\n",
        "\n",
        "def candy_heap(ratings):\n",
        "    n = len(ratings)\n",
        "    candies = [1] * n\n",
        "    min_heap = [(r, i) for i, r in enumerate(ratings)]\n",
        "    heapq.heapify(min_heap)\n",
        "\n",
        "    while min_heap:\n",
        "        r, i = heapq.heappop(min_heap)\n",
        "\n",
        "        # Comparar con el vecino izquierdo\n",
        "        if i > 0 and ratings[i] > ratings[i - 1]:\n",
        "            candies[i] = max(candies[i], candies[i - 1] + 1)\n",
        "\n",
        "        # Comparar con el vecino derecho\n",
        "        if i < n - 1 and ratings[i] > ratings[i + 1]:\n",
        "            candies[i] = max(candies[i], candies[i + 1] + 1)\n",
        "\n",
        "    return sum(candies)\n"
      ],
      "metadata": {
        "id": "EEMSyrXtJXHF"
      },
      "execution_count": null,
      "outputs": []
    },
    {
      "cell_type": "markdown",
      "source": [
        "🧮 Complejidad:\n",
        "Tiempo: O(n log n) (por la cola de prioridad)\n",
        "\n",
        "Espacio: O(n)"
      ],
      "metadata": {
        "id": "qfivmTIXJYgL"
      }
    },
    {
      "cell_type": "markdown",
      "source": [
        "# Gas Station Solucion 1\n",
        "Recorrido Lineal (Greedy)"
      ],
      "metadata": {
        "id": "vT_xwPOYJ9r3"
      }
    },
    {
      "cell_type": "code",
      "source": [
        "def can_complete_circuit(gas, cost):\n",
        "    total_gas = 0\n",
        "    total_cost = 0\n",
        "    tank = 0\n",
        "    start = 0\n",
        "\n",
        "    for i in range(len(gas)):\n",
        "        total_gas += gas[i]\n",
        "        total_cost += cost[i]\n",
        "        tank += gas[i] - cost[i]\n",
        "\n",
        "        # Si el tanque se vacía, significa que no podemos llegar desde 'start' hasta 'i'\n",
        "        if tank < 0:\n",
        "            start = i + 1\n",
        "            tank = 0  # reiniciamos el tanque\n",
        "\n",
        "    # Si el total de gas es suficiente para cubrir el total de costo, el viaje es posible\n",
        "    return start if total_gas >= total_cost else -1\n"
      ],
      "metadata": {
        "id": "tG7Hj6onJ_y9"
      },
      "execution_count": null,
      "outputs": []
    },
    {
      "cell_type": "markdown",
      "source": [
        "🧮 Complejidad\n",
        "Tiempo: O(n)\n",
        "\n",
        "Espacio: O(1)"
      ],
      "metadata": {
        "id": "RylHXiqMKL04"
      }
    },
    {
      "cell_type": "markdown",
      "source": [
        "# Gas Station Solucion 2"
      ],
      "metadata": {
        "id": "jfHwK-kPKHzN"
      }
    },
    {
      "cell_type": "markdown",
      "source": [
        "Solución 2: Bruta (ineficiente)\n",
        "Esta solución intenta empezar desde cada estación y verifica si se puede completar el circuito. Es útil para entender el problema, pero no recomendable en entrevistas."
      ],
      "metadata": {
        "id": "xyri2eL9KN0V"
      }
    },
    {
      "cell_type": "markdown",
      "source": [
        "def can_complete_circuit_brute(gas, cost):\n",
        "    n = len(gas)\n",
        "    for start in range(n):\n",
        "        tank = 0\n",
        "        completed = True\n",
        "        for i in range(n):\n",
        "            idx = (start + i) % n\n",
        "            tank += gas[idx] - cost[idx]\n",
        "            if tank < 0:\n",
        "                completed = False\n",
        "                break\n",
        "        if completed:\n",
        "            return start\n",
        "    return -1\n"
      ],
      "metadata": {
        "id": "7Kc9JTucKR49"
      }
    },
    {
      "cell_type": "markdown",
      "source": [
        "🧮 Complejidad\n",
        "Tiempo: O(n²)\n",
        "\n",
        "Espacio: O(1)"
      ],
      "metadata": {
        "id": "4x0pvpiXKTUU"
      }
    },
    {
      "cell_type": "markdown",
      "source": [
        "# Integer To Roman Solucion 12 Solucion 1\n",
        "Enfoque clásico (Greedy)\n"
      ],
      "metadata": {
        "id": "k9Db89QY6RPY"
      }
    },
    {
      "cell_type": "code",
      "source": [
        "def int_to_roman_greedy(num: int) -> str:\n",
        "    # Paso 1: Tabla de valores y símbolos romanos\n",
        "    values =    [1000, 900, 500, 400, 100, 90,  50, 40, 10, 9,   5,  4,  1]\n",
        "    symbols = [\"M\",  \"CM\", \"D\", \"CD\", \"C\", \"XC\", \"L\",\"XL\",\"X\",\"IX\",\"V\",\"IV\",\"I\"]\n",
        "\n",
        "    # Paso 2: Construir el resultado\n",
        "    roman = []\n",
        "    for i in range(len(values)):\n",
        "        while num >= values[i]:\n",
        "            roman.append(symbols[i])\n",
        "            num -= values[i]\n",
        "    return \"\".join(roman)\n",
        "\n",
        "\n",
        "print(int_to_roman_greedy(19))"
      ],
      "metadata": {
        "id": "2gci0lrd6Xdv",
        "colab": {
          "base_uri": "https://localhost:8080/"
        },
        "outputId": "9c086507-796d-441f-be3c-1b5a346125ea"
      },
      "execution_count": null,
      "outputs": [
        {
          "output_type": "stream",
          "name": "stdout",
          "text": [
            "XIX\n"
          ]
        }
      ]
    },
    {
      "cell_type": "markdown",
      "source": [
        "🔍 Complejidad\n",
        "🕒 Tiempo: O(1) — El número máximo de iteraciones está limitado por el número máximo (3999), y la tabla tiene solo 13 elementos.\n",
        "\n",
        "💾 Espacio: O(1) — Se usan listas de tamaño fijo y una cadena como resultado."
      ],
      "metadata": {
        "id": "nfPG42JB6ZLf"
      }
    },
    {
      "cell_type": "markdown",
      "source": [
        "# Integer To Roman Solcion 2\n",
        "Construcción basada en dígitos (miles, centenas, decenas, unidades)\n"
      ],
      "metadata": {
        "id": "B9haBCYd6bpW"
      }
    },
    {
      "cell_type": "code",
      "source": [
        "def int_to_roman_by_place(num: int) -> str:\n",
        "    # Paso 1: Listas de representación fija por posición\n",
        "    thousands = [\"\", \"M\", \"MM\", \"MMM\"]\n",
        "    hundreds  = [\"\", \"C\", \"CC\", \"CCC\", \"CD\", \"D\", \"DC\", \"DCC\", \"DCCC\", \"CM\"]\n",
        "    tens      = [\"\", \"X\", \"XX\", \"XXX\", \"XL\", \"L\", \"LX\", \"LXX\", \"LXXX\", \"XC\"]\n",
        "    ones      = [\"\", \"I\", \"II\", \"III\", \"IV\", \"V\", \"VI\", \"VII\", \"VIII\", \"IX\"]\n",
        "\n",
        "    # Paso 2: Componer según cada dígito del número\n",
        "    return (\n",
        "        thousands[num // 1000] +\n",
        "        hundreds[(num % 1000) // 100] +\n",
        "        tens[(num % 100) // 10] +\n",
        "        ones[num % 10]\n",
        "    )\n"
      ],
      "metadata": {
        "id": "Oocm5vnd6tTm"
      },
      "execution_count": null,
      "outputs": []
    },
    {
      "cell_type": "markdown",
      "source": [
        "Complejidad\n",
        "🕒 Tiempo: O(1) — Solo hay una operación matemática y 4 accesos a lista.\n",
        "\n",
        "💾 Espacio: O(1) — Todas las listas son de tamaño constante (≤ 10)."
      ],
      "metadata": {
        "id": "TNwPUP0q6uBy"
      }
    },
    {
      "cell_type": "markdown",
      "source": [
        "# Roman To Integer Solucion 1 13\n",
        "Recorriendo de derecha a izquierda"
      ],
      "metadata": {
        "id": "ggn6nI6Z6wBE"
      }
    },
    {
      "cell_type": "code",
      "source": [
        "def roman_to_int(s: str) -> int:\n",
        "    # Mapa de valores romanos\n",
        "    roman_map = {\n",
        "        'I': 1, 'V': 5, 'X': 10, 'L': 50,\n",
        "        'C': 100, 'D': 500, 'M': 1000\n",
        "    }\n",
        "\n",
        "    total = 0\n",
        "    prev_value = 0\n",
        "\n",
        "    # Recorremos de derecha a izquierda\n",
        "    for char in reversed(s):\n",
        "        current_value = roman_map[char]\n",
        "        if current_value < prev_value:\n",
        "            total -= current_value\n",
        "        else:\n",
        "            total += current_value\n",
        "        prev_value = current_value\n",
        "\n",
        "    return total\n",
        "\n",
        "# Pruebas\n",
        "print(roman_to_int(\"III\"))      # 3\n",
        "print(roman_to_int(\"LVIII\"))    # 58\n",
        "print(roman_to_int(\"MCMXCIV\"))  # 1994\n"
      ],
      "metadata": {
        "id": "r-2YChRy7hty"
      },
      "execution_count": null,
      "outputs": []
    },
    {
      "cell_type": "markdown",
      "source": [
        "Derecha a izquierda\tO(n)\tO(1)\tSolo una pasada, sin estructuras extra"
      ],
      "metadata": {
        "id": "uRm3JFCy7qZR"
      }
    },
    {
      "cell_type": "markdown",
      "source": [
        "# Roman To Integer Solucion 2\n",
        "De izquierda a derecha"
      ],
      "metadata": {
        "id": "i77ZFY029E0G"
      }
    },
    {
      "cell_type": "code",
      "source": [
        "def roman_to_int_alt(s: str) -> int:\n",
        "    roman_map = {\n",
        "        'I': 1, 'V': 5, 'X': 10, 'L': 50,\n",
        "        'C': 100, 'D': 500, 'M': 1000\n",
        "    }\n",
        "\n",
        "    total = 0\n",
        "    i = 0\n",
        "    while i < len(s):\n",
        "        # Si hay un siguiente carácter y su valor es mayor, es una resta especial\n",
        "        if i + 1 < len(s) and roman_map[s[i]] < roman_map[s[i + 1]]:\n",
        "            total += roman_map[s[i + 1]] - roman_map[s[i]]\n",
        "            i += 2  # Saltamos ambos caracteres\n",
        "        else:\n",
        "            total += roman_map[s[i]]\n",
        "            i += 1\n",
        "    return total\n",
        "\n",
        "# Pruebas\n",
        "print(roman_to_int_alt(\"III\"))      # 3\n",
        "print(roman_to_int_alt(\"LVIII\"))    # 58\n",
        "print(roman_to_int_alt(\"MCMXCIV\"))  # 1994\n"
      ],
      "metadata": {
        "id": "MNxTGrTX9J6V"
      },
      "execution_count": null,
      "outputs": []
    },
    {
      "cell_type": "code",
      "source": [
        "Izquierda a derecha (pares)\tO(n)\tO(1)\tRequiere ver el siguiente carácter"
      ],
      "metadata": {
        "id": "EDpUqAmF9OVo"
      },
      "execution_count": null,
      "outputs": []
    },
    {
      "cell_type": "markdown",
      "source": [
        "🕒 Tiempo: O(n) en ambos, donde n es la longitud del string romano.\n",
        "\n",
        "💾 Espacio: O(1) porque solo usamos variables fijas, y el diccionario es constante (7 símbolos únicos)."
      ],
      "metadata": {
        "id": "VkwmYx5V9SnO"
      }
    },
    {
      "cell_type": "markdown",
      "source": [
        "# Longest Common Prefix Solucion 1\n",
        "Prefijo común más largo\n",
        "Dado un arreglo de strings, devolver el prefijo común más largo. Si no hay ninguno, devolver una cadena vacía.\n",
        "\n"
      ],
      "metadata": {
        "id": "lS8gIHbp-FbZ"
      }
    },
    {
      "cell_type": "code",
      "source": [
        "# Función que encuentra el prefijo común más largo entre todas las cadenas de la lista\n",
        "def longest_common_prefix(strs):\n",
        "    if not strs:\n",
        "        return \"\"  # Si la lista está vacía, no hay prefijo común\n",
        "\n",
        "    prefix = strs[0]  # Tomamos la primera cadena como prefijo inicial\n",
        "\n",
        "    # Iteramos sobre el resto de cadenas\n",
        "    for i in range(1, len(strs)):\n",
        "        # Mientras la cadena actual no comience con el prefijo\n",
        "        while not strs[i].startswith(prefix):\n",
        "            prefix = prefix[:-1]  # Reducimos el prefijo eliminando el último carácter\n",
        "\n",
        "            if not prefix:\n",
        "                return \"\"  # Si el prefijo se vuelve vacío, no hay prefijo común\n",
        "\n",
        "    return prefix  # Devolvemos el prefijo común más largo encontrado\n",
        "\n",
        "# Pruebas\n",
        "\n",
        "input1 = [\"flower\", \"flow\", \"flight\"]\n",
        "print(\"Output:\", longest_common_prefix(input1))  # Salida esperada: \"fl\"\n",
        "\n",
        "input2 = [\"dog\", \"racecar\", \"car\"]\n",
        "print(\"Output:\", longest_common_prefix(input2))  # Salida esperada: \"\"\n"
      ],
      "metadata": {
        "id": "FRHfpJbX-J_E"
      },
      "execution_count": null,
      "outputs": []
    },
    {
      "cell_type": "markdown",
      "source": [
        "# Longest Common Prefix Solucion 2\n"
      ],
      "metadata": {
        "id": "mKzUqDm9-RCF"
      }
    },
    {
      "cell_type": "code",
      "source": [
        "# Función alternativa para encontrar el prefijo común más largo\n",
        "def longest_common_prefix_alt(strs):\n",
        "    if not strs:\n",
        "        return \"\"  # Si la lista está vacía, no hay prefijo común\n",
        "\n",
        "    # Recorremos los caracteres de la primera palabra\n",
        "    for i in range(len(strs[0])):\n",
        "        char = strs[0][i]  # Tomamos el carácter actual del prefijo\n",
        "\n",
        "        # Comparamos este carácter con el mismo índice en las demás cadenas\n",
        "        for s in strs[1:]:\n",
        "            # Si el índice excede la longitud de alguna cadena\n",
        "            # o el carácter no coincide, ya no hay coincidencia\n",
        "            if i >= len(s) or s[i] != char:\n",
        "                return strs[0][:i]  # Retornamos el prefijo hasta el carácter anterior\n",
        "\n",
        "    return strs[0]  # Si se recorrió todo sin cortar, toda la primera palabra es el prefijo común\n"
      ],
      "metadata": {
        "id": "sq4KC-FV-UTX"
      },
      "execution_count": null,
      "outputs": []
    },
    {
      "cell_type": "markdown",
      "source": [
        " 🔍 Complejidad Big O\n",
        "Enfoque\tTiempo\tEspacio\tNotas\n",
        "  Método 1:\n",
        "  Prefijo reducido\tO(S)\tO(1)\tS = total de caracteres en todas las strings\n",
        "  Método 2:\n",
        " Carácter por carácter\tO(S)\tO(1)\tMás directo pero puede terminar antes\n",
        "\n",
        "Ambos métodos tienen tiempo lineal respecto al total de caracteres, S.\n",
        "\n",
        "🧪 ¿Cuál usar?\n",
        "✅ Usa el método 1 si quieres algo más \"estable\" con strings largos, porque reduce de forma segura el prefijo.\n",
        "\n",
        "✅ Usa el método 2 si prefieres una solución más rápida en promedio, ya que puede salir antes si encuentra una diferencia temprana."
      ],
      "metadata": {
        "id": "6XqvZoRcGkVI"
      }
    },
    {
      "cell_type": "markdown",
      "source": [
        "# Linked List\n"
      ],
      "metadata": {
        "id": "yqTJoL3oG23h"
      }
    },
    {
      "cell_type": "markdown",
      "source": [
        "# Linked List Circle Solucion 1\n",
        "Detección de ciclo en una lista enlazada\n",
        "Queremos saber si existe un ciclo (bucle) en una lista enlazada, es decir, si algún nodo apunta hacia uno anterior."
      ],
      "metadata": {
        "id": "ZxG7GtoKHPzV"
      }
    },
    {
      "cell_type": "markdown",
      "source": [
        "Solucion 1 Dos punteros (Floyd’s Cycle Detection)"
      ],
      "metadata": {
        "id": "dHlV12h3HcN7"
      }
    },
    {
      "cell_type": "code",
      "source": [
        "# Definición de un nodo para la lista enlazada\n",
        "class ListNode:\n",
        "    def __init__(self, val):\n",
        "        self.val = val        # Valor del nodo\n",
        "        self.next = None      # Puntero al siguiente nodo (inicialmente None)\n",
        "\n",
        "# Clase que contiene el método para detectar un ciclo en una lista enlazada\n",
        "class LinkedListCycle:\n",
        "    def hasCycle(self, head: ListNode) -> bool:\n",
        "        # Si la lista está vacía o tiene solo un nodo, no puede haber ciclo\n",
        "        if not head or not head.next:\n",
        "            return False\n",
        "\n",
        "        slow = head  # Puntero lento que avanza de uno en uno\n",
        "        fast = head  # Puntero rápido que avanza de dos en dos\n",
        "\n",
        "        # Mientras el puntero rápido y su siguiente no sean None\n",
        "        while fast and fast.next:\n",
        "            slow = slow.next           # Avanza un paso\n",
        "            fast = fast.next.next      # Avanza dos pasos\n",
        "\n",
        "            if slow == fast:\n",
        "                return True  # Si se encuentran, hay un ciclo\n",
        "\n",
        "        return False  # Si termina el bucle sin encontrar ciclo, no hay ciclo\n",
        "\n",
        "# 🔁 Crear lista con ciclo: 3 -> 2 -> 0 -> -4 -> (apunta de nuevo a 2)\n",
        "node1 = ListNode(3)        # Primer nodo con valor 3\n",
        "node2 = ListNode(2)        # Segundo nodo con valor 2\n",
        "node3 = ListNode(0)        # Tercer nodo con valor 0\n",
        "node4 = ListNode(-4)       # Cuarto nodo con valor -4\n",
        "\n",
        "node1.next = node2         # 3 -> 2\n",
        "node2.next = node3         # 2 -> 0\n",
        "node3.next = node4         # 0 -> -4\n",
        "node4.next = node2         # -4 -> 2 (ciclo creado)\n",
        "\n",
        "# Crear una instancia del detector de ciclos\n",
        "solution = LinkedListCycle()\n",
        "\n",
        "# Verificar si la lista con ciclo tiene un ciclo\n",
        "print(\"¿Tiene ciclo?\", solution.hasCycle(node1))  # Salida: True\n",
        "\n",
        "# Lista sin ciclo: 1 (sin siguiente nodo)\n",
        "node5 = ListNode(1)\n",
        "\n",
        "# Verificar si la lista sin ciclo tiene un ciclo\n",
        "print(\"¿Tiene ciclo?\", solution.hasCycle(node5))  # Salida: False\n"
      ],
      "metadata": {
        "id": "s8_v6vcrHTB-",
        "colab": {
          "base_uri": "https://localhost:8080/"
        },
        "outputId": "8263807f-a4ba-4e2e-f815-89ddac8c77c2"
      },
      "execution_count": null,
      "outputs": [
        {
          "output_type": "stream",
          "name": "stdout",
          "text": [
            "¿Tiene ciclo? True\n",
            "¿Tiene ciclo? False\n"
          ]
        }
      ]
    },
    {
      "cell_type": "markdown",
      "source": [
        "# Linked List Circle Solucion 2"
      ],
      "metadata": {
        "id": "H15GLqquHh2h"
      }
    },
    {
      "cell_type": "code",
      "source": [
        "# Clase que contiene un método para detectar ciclos en una lista enlazada\n",
        "class LinkedListCycleSet:\n",
        "    def hasCycle(self, head: ListNode) -> bool:\n",
        "        # Creamos un conjunto para guardar los nodos que ya hemos visitado\n",
        "        visited = set()\n",
        "\n",
        "        # Empezamos desde el primer nodo (cabeza de la lista)\n",
        "        current = head\n",
        "\n",
        "        # Recorremos la lista nodo por nodo\n",
        "        while current:\n",
        "            # Si el nodo actual ya fue visitado antes, hay un ciclo\n",
        "            if current in visited:\n",
        "                return True\n",
        "\n",
        "            # Si no fue visitado, lo agregamos al conjunto\n",
        "            visited.add(current)\n",
        "\n",
        "            # Avanzamos al siguiente nodo\n",
        "            current = current.next\n",
        "\n",
        "        # Si terminamos el recorrido sin repetir ningún nodo, no hay ciclo\n",
        "        return False\n"
      ],
      "metadata": {
        "id": "HqkVuM0HHnBh"
      },
      "execution_count": null,
      "outputs": []
    },
    {
      "cell_type": "markdown",
      "source": [
        "| Método                 | Tiempo | Espacio | Notas                                    |\n",
        "| ---------------------- | ------ | ------- | ---------------------------------------- |\n",
        "| Floyd (2 punteros)     | `O(n)` | `O(1)`  | Más eficiente en espacio                 |\n",
        "| Set de nodos visitados | `O(n)` | `O(n)`  | Usa memoria adicional para guardar nodos |\n"
      ],
      "metadata": {
        "id": "lWPzZCJTHqyG"
      }
    },
    {
      "cell_type": "markdown",
      "source": [
        "# Add Two Numbers Solucion 1\n"
      ],
      "metadata": {
        "id": "jikxgZ_PHtJZ"
      }
    },
    {
      "cell_type": "code",
      "source": [
        "# Clase que representa un nodo de una lista enlazada\n",
        "class ListNode:\n",
        "    def __init__(self, val=0, next=None):\n",
        "        # Valor del nodo\n",
        "        self.val = val\n",
        "        # Referencia al siguiente nodo (o None si es el último)\n",
        "        self.next = next\n",
        "\n",
        "# Clase que contiene el método para sumar dos números en listas enlazadas\n",
        "class AddTwoNumbers:\n",
        "    def addTwoNumbers(self, l1: ListNode, l2: ListNode) -> ListNode:\n",
        "        # Nodo inicial \"ficticio\" para comenzar la nueva lista\n",
        "        dummy = ListNode()\n",
        "        # Puntero actual que usaremos para construir la nueva lista\n",
        "        current = dummy\n",
        "        # Variable para llevar el acarreo\n",
        "        carry = 0\n",
        "\n",
        "        # Mientras haya nodos en l1 o l2, o haya acarreo pendiente\n",
        "        while l1 or l2 or carry:\n",
        "            # Empezamos sumando el valor del acarreo\n",
        "            sum_ = carry\n",
        "\n",
        "            # Si hay un nodo en l1, se suma su valor y se avanza al siguiente\n",
        "            if l1:\n",
        "                sum_ += l1.val\n",
        "                l1 = l1.next\n",
        "\n",
        "            # Si hay un nodo en l2, se suma su valor y se avanza al siguiente\n",
        "            if l2:\n",
        "                sum_ += l2.val\n",
        "                l2 = l2.next\n",
        "\n",
        "            # Calculamos el nuevo acarreo\n",
        "            carry = sum_ // 10\n",
        "            # Creamos un nuevo nodo con el dígito de las unidades y lo agregamos a la lista\n",
        "            current.next = ListNode(sum_ % 10)\n",
        "            # Avanzamos al siguiente nodo en la lista resultado\n",
        "            current = current.next\n",
        "\n",
        "        # Retornamos la lista resultado (ignorando el nodo ficticio inicial)\n",
        "        return dummy.next\n",
        "\n",
        "# Función para imprimir una lista enlazada como lista normal\n",
        "def print_linked_list(node):\n",
        "    result = []\n",
        "    # Recorre la lista enlazada y guarda los valores en una lista normal\n",
        "    while node:\n",
        "        result.append(node.val)\n",
        "        node = node.next\n",
        "    # Imprime la lista de valores\n",
        "    print(result)\n"
      ],
      "metadata": {
        "id": "w58-7FT3IbU9"
      },
      "execution_count": null,
      "outputs": []
    },
    {
      "cell_type": "markdown",
      "source": [
        "🧮 Complejidad\n",
        "⏱ Tiempo: O(max(n, m))\n",
        "\n",
        "🧠 Espacio: O(max(n, m))"
      ],
      "metadata": {
        "id": "8-35Uvf7IeNM"
      }
    },
    {
      "cell_type": "markdown",
      "source": [
        "# Add Two Numbers Solucion 2"
      ],
      "metadata": {
        "id": "d4IOLVHLIe_c"
      }
    },
    {
      "cell_type": "code",
      "source": [
        "def add_two_numbers_list(l1, l2):\n",
        "    # Crea una lista vacía donde se guardará el resultado de la suma\n",
        "    result = []\n",
        "\n",
        "    # Inicializa el acarreo (por si la suma de dos dígitos es mayor a 9)\n",
        "    carry = 0\n",
        "\n",
        "    # Índices para recorrer las dos listas\n",
        "    i, j = 0, 0\n",
        "\n",
        "    # El bucle se ejecuta mientras haya dígitos en l1 o l2, o un acarreo pendiente\n",
        "    while i < len(l1) or j < len(l2) or carry:\n",
        "        # Comienza la suma con el valor del acarreo\n",
        "        sum_ = carry\n",
        "\n",
        "        # Si aún hay dígitos en l1, súmalos y avanza al siguiente\n",
        "        if i < len(l1):\n",
        "            sum_ += l1[i]\n",
        "            i += 1\n",
        "\n",
        "        # Si aún hay dígitos en l2, súmalos y avanza al siguiente\n",
        "        if j < len(l2):\n",
        "            sum_ += l2[j]\n",
        "            j += 1\n",
        "\n",
        "        # Calcula el nuevo acarreo (si la suma fue 10 o más)\n",
        "        carry = sum_ // 10\n",
        "\n",
        "        # Agrega el último dígito de la suma (las unidades) al resultado\n",
        "        result.append(sum_ % 10)\n",
        "\n",
        "    # Devuelve la lista con la suma de los dos números\n",
        "    return result\n",
        "\n"
      ],
      "metadata": {
        "id": "iFhsIbqbIiBE"
      },
      "execution_count": null,
      "outputs": []
    },
    {
      "cell_type": "markdown",
      "source": [
        "🧮 Complejidad\n",
        "⏱ Tiempo: O(max(n, m))\n",
        "\n",
        "🧠 Espacio: O(max(n, m))\n",
        "\n"
      ],
      "metadata": {
        "id": "uFVD0-5fIn1F"
      }
    }
  ]
}